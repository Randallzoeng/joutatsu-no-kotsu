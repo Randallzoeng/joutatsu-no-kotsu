{
 "cells": [
  {
   "cell_type": "markdown",
   "metadata": {},
   "source": [
    "# 🧐\n",
    "Google認為，一個優秀的開發人員，應該要可以對自己訓練出來的機器模型，回答幾個問題，像是\n",
    "- 資料的變化會如何影響模型的預測？\n",
    "- 機器模型對不同的群體有哪些不同的表現？\n",
    "- 用來測試模型的資料是否足夠多樣化？\n",
    "\n",
    "[Google釋出無程式碼機器學習模型分析工具](https://www.ithome.com.tw/news/125832)\n",
    "\n",
    "Instead, good practitioners act as detectives, probing to understand their model better: \n",
    "- How would changes to a datapoint affect my model’s prediction? \n",
    "- Does it perform differently for various groups–for example, historically marginalized people? \n",
    "- How diverse is the dataset I am testing my model on?\n",
    "\n",
    "[The What-If Tool: Code-Free Probing of Machine Learning Models](https://ai.googleblog.com/2018/09/the-what-if-tool-code-free-probing-of.html)"
   ]
  },
  {
   "cell_type": "markdown",
   "metadata": {},
   "source": [
    "# An Example From RiskManagement"
   ]
  },
  {
   "cell_type": "code",
   "execution_count": 36,
   "metadata": {},
   "outputs": [],
   "source": [
    "import numpy as np\n",
    "import pandas as pd\n",
    "import warnings\n",
    "warnings.filterwarnings(\"ignore\")"
   ]
  },
  {
   "cell_type": "code",
   "execution_count": 26,
   "metadata": {},
   "outputs": [],
   "source": [
    "path = \"/Users/soda/Documents/GitHub/riskmanagementnotes/dataset/data/\"\n",
    "raw_data = pd.read_csv(path+\"Acard.txt\")"
   ]
  },
  {
   "cell_type": "code",
   "execution_count": 27,
   "metadata": {},
   "outputs": [
    {
     "data": {
      "text/plain": [
       "(95806, 13)"
      ]
     },
     "execution_count": 27,
     "metadata": {},
     "output_type": "execute_result"
    }
   ],
   "source": [
    "raw_data.shape"
   ]
  },
  {
   "cell_type": "code",
   "execution_count": 28,
   "metadata": {},
   "outputs": [
    {
     "data": {
      "text/plain": [
       "array(['2018-06-30', '2018-07-31', '2018-09-30', '2018-10-31',\n",
       "       '2018-11-30'], dtype=object)"
      ]
     },
     "execution_count": 28,
     "metadata": {},
     "output_type": "execute_result"
    }
   ],
   "source": [
    "np.unique(np.array(raw_data['obs_mth']))"
   ]
  },
  {
   "cell_type": "code",
   "execution_count": 34,
   "metadata": {},
   "outputs": [],
   "source": [
    "feature_lst = ['person_info','finance_info','credit_info','act_info']\n",
    "\n",
    "trn_x = raw_data.loc[raw_data.obs_mth != '2018-11-30',feature_lst].copy()\n",
    "trn_y = raw_data.loc[raw_data.obs_mth != '2018-11-30','bad_ind'].copy()\n",
    "vld_x = raw_data.loc[raw_data.obs_mth == '2018-11-30',feature_lst].copy()\n",
    "vld_y = raw_data.loc[raw_data.obs_mth == '2018-11-30','bad_ind'].copy()"
   ]
  },
  {
   "cell_type": "code",
   "execution_count": 15,
   "metadata": {},
   "outputs": [],
   "source": [
    "import xgboost as xgb"
   ]
  },
  {
   "cell_type": "code",
   "execution_count": 38,
   "metadata": {},
   "outputs": [],
   "source": [
    "dtrain = xgb.DMatrix(trn_x,trn_y)\n",
    "dvalid = xgb.DMatrix(vld_x,vld_y)\n",
    "watchlist = [(dtrain,'train'),(dvalid,'eval')]"
   ]
  },
  {
   "cell_type": "code",
   "execution_count": 43,
   "metadata": {
    "scrolled": true
   },
   "outputs": [
    {
     "name": "stdout",
     "output_type": "stream",
     "text": [
      "[0]\ttrain-auc:0.681722\teval-auc:0.671063\n",
      "[1]\ttrain-auc:0.740342\teval-auc:0.729295\n",
      "[2]\ttrain-auc:0.770689\teval-auc:0.746566\n",
      "[3]\ttrain-auc:0.795246\teval-auc:0.763697\n",
      "[4]\ttrain-auc:0.801214\teval-auc:0.767317\n",
      "[5]\ttrain-auc:0.809423\teval-auc:0.775835\n",
      "[6]\ttrain-auc:0.812139\teval-auc:0.775973\n",
      "[7]\ttrain-auc:0.812886\teval-auc:0.776707\n",
      "[8]\ttrain-auc:0.813262\teval-auc:0.780214\n",
      "[9]\ttrain-auc:0.813698\teval-auc:0.779042\n"
     ]
    }
   ],
   "source": [
    "param = {'max_depth':2,'eta':1,'silent':1,\n",
    "         'objective':'binary:logistic','eval_metric': 'auc'}\n",
    "num_round = 10\n",
    "bst = xgb.train(param,dtrain,num_round,watchlist)"
   ]
  },
  {
   "cell_type": "code",
   "execution_count": 54,
   "metadata": {},
   "outputs": [],
   "source": [
    "y_hat = bst.predict(dvalid)\n",
    "df = pd.DataFrame({'y_true':vld_y,'y_hat':y_hat})\n",
    "threshold_20 = df['y_hat'].quantile(0.2)\n",
    "df['pct_rank'] = df['y_hat'].map(lambda x:1 if x<=threshold_20 else 0)"
   ]
  },
  {
   "cell_type": "code",
   "execution_count": 62,
   "metadata": {},
   "outputs": [],
   "source": [
    "from sklearn.metrics import roc_auc_score,roc_curve,auc\n",
    "\n",
    "fpr_top,tpr_top,_ = roc_curve(df.loc[df['pct_rank']==1,'y_true'],\n",
    "                              df.loc[df['pct_rank']==1,'y_hat'])\n",
    "fpr_,tpr_,_ = roc_curve(df['y_true'],df['y_hat'])"
   ]
  },
  {
   "cell_type": "code",
   "execution_count": 73,
   "metadata": {},
   "outputs": [],
   "source": [
    "auc_top = round(auc(fpr_top, tpr_top),5)\n",
    "auc_overall = round(auc(fpr_, tpr_),5)"
   ]
  },
  {
   "cell_type": "code",
   "execution_count": 76,
   "metadata": {
    "scrolled": true
   },
   "outputs": [
    {
     "data": {
      "image/png": "[encoded data removed]",
      "text/plain": [
       "<Figure size 432x288 with 1 Axes>"
      ]
     },
     "metadata": {},
     "output_type": "display_data"
    }
   ],
   "source": [
    "%matplotlib inline\n",
    "import matplotlib.pyplot as plt\n",
    "\n",
    "plt.plot(fpr_top,tpr_top,label = 'top20% '+str(auc_top))\n",
    "plt.plot(fpr_,tpr_,label = 'overall'+ str(auc_overall))  \n",
    "plt.plot([0,1],[0,1],'k--')  \n",
    "plt.xlabel('False positive rate')  \n",
    "plt.ylabel('True positive rate')  \n",
    "plt.title('ROC Curve')  \n",
    "plt.legend(loc = 'best')  \n",
    "plt.show()"
   ]
  },
  {
   "cell_type": "markdown",
   "metadata": {},
   "source": [
    "# Does it perform differently for various groups"
   ]
  },
  {
   "cell_type": "code",
   "execution_count": 77,
   "metadata": {},
   "outputs": [],
   "source": [
    "def loglikehood(preds,dtrain):\n",
    "    labels = dtrain.get_label()\n",
    "    preds = 1.0/(1.0+np.exp(-preds))\n",
    "    grad = preds - labels\n",
    "    hess = preds*(1.0-preds)\n",
    "    return grad,hess"
   ]
  },
  {
   "cell_type": "code",
   "execution_count": 82,
   "metadata": {},
   "outputs": [],
   "source": [
    "def binary_error(preds, train_data):  \n",
    "    labels = train_data.get_label()  \n",
    "    dct = pd.DataFrame({'pred':preds,'percent':preds,'labels':labels})  \n",
    "    key = dct['percent'].quantile(0.2)  \n",
    "    dct['percent']= dct['percent'].map(lambda x :1 if x <= key else 0)    \n",
    "    result = np.mean(dct[dct.percent== 1]['labels'] == 1)*0.5 \\\n",
    "               + np.mean((dct.labels - dct.pred)**2)*0.5  \n",
    "    return 'error',result  "
   ]
  },
  {
   "cell_type": "code",
   "execution_count": 84,
   "metadata": {},
   "outputs": [
    {
     "name": "stdout",
     "output_type": "stream",
     "text": [
      "[0]\ttrain-auc:0.681722\teval-auc:0.671063\ttrain-error:0.015926\teval-error:0.017703\n",
      "[1]\ttrain-auc:0.750515\teval-auc:0.746086\ttrain-error:0.012648\teval-error:0.013458\n",
      "[2]\ttrain-auc:0.763703\teval-auc:0.737026\ttrain-error:0.012384\teval-error:0.013488\n",
      "[3]\ttrain-auc:0.763703\teval-auc:0.737026\ttrain-error:0.012427\teval-error:0.013542\n",
      "[4]\ttrain-auc:0.763703\teval-auc:0.737026\ttrain-error:0.012436\teval-error:0.013555\n",
      "[5]\ttrain-auc:0.763703\teval-auc:0.737026\ttrain-error:0.012438\teval-error:0.013558\n",
      "[6]\ttrain-auc:0.763703\teval-auc:0.737026\ttrain-error:0.012439\teval-error:0.013559\n",
      "[7]\ttrain-auc:0.763703\teval-auc:0.737026\ttrain-error:0.012439\teval-error:0.013559\n",
      "[8]\ttrain-auc:0.763703\teval-auc:0.737026\ttrain-error:0.012439\teval-error:0.013559\n",
      "[9]\ttrain-auc:0.763703\teval-auc:0.737026\ttrain-error:0.012439\teval-error:0.013559\n"
     ]
    }
   ],
   "source": [
    "bst_cus =xgb.train(param,dtrain,num_round,watchlist,obj=loglikehood,\n",
    "                  feval=binary_error)"
   ]
  },
  {
   "cell_type": "code",
   "execution_count": 85,
   "metadata": {},
   "outputs": [
    {
     "data": {
      "image/png": "[encoded data removed]",
      "text/plain": [
       "<Figure size 432x288 with 1 Axes>"
      ]
     },
     "metadata": {},
     "output_type": "display_data"
    }
   ],
   "source": [
    "y_hat = bst_cus.predict(dvalid)\n",
    "df_cus = pd.DataFrame({'y_true':vld_y,'y_hat':y_hat})\n",
    "threshold_20 = df_cus['y_hat'].quantile(0.2)\n",
    "df_cus['pct_rank'] = df_cus['y_hat'].map(lambda x:1 if x<=threshold_20 else 0)\n",
    "\n",
    "fpr_top,tpr_top,_ = roc_curve(df_cus.loc[df_cus['pct_rank']==1,'y_true'],\n",
    "                              df_cus.loc[df_cus['pct_rank']==1,'y_hat'])\n",
    "fpr_,tpr_,_ = roc_curve(df_cus['y_true'],df_cus['y_hat'])\n",
    "auc_top = round(auc(fpr_top, tpr_top),5)\n",
    "auc_overall = round(auc(fpr_, tpr_),5)\n",
    "\n",
    "%matplotlib inline\n",
    "import matplotlib.pyplot as plt\n",
    "\n",
    "plt.plot(fpr_top,tpr_top,label = 'top20% '+str(auc_top))\n",
    "plt.plot(fpr_,tpr_,label = 'overall'+ str(auc_overall))  \n",
    "plt.plot([0,1],[0,1],'k--')  \n",
    "plt.xlabel('False positive rate')  \n",
    "plt.ylabel('True positive rate')  \n",
    "plt.title('ROC Curve')  \n",
    "plt.legend(loc = 'best')  \n",
    "plt.show()"
   ]
  },
  {
   "cell_type": "markdown",
   "metadata": {},
   "source": [
    "`reference`\n",
    "1. https://www.jianshu.com/p/ac1c12f3fba1\n",
    "2. https://github.com/dmlc/xgboost/blob/master/demo/guide-python/custom_objective.py"
   ]
  },
  {
   "cell_type": "markdown",
   "metadata": {},
   "source": [
    "`Explainable Model`\n",
    "1. I understand why\n",
    "2. I understand why not\n",
    "3. I know when you succeed\n",
    "4. I know when you fail\n",
    "5. I know when to trust you\n",
    "6. I know why you erred\n"
   ]
  }
 ],
 "metadata": {
  "kernelspec": {
   "display_name": "Python 3",
   "language": "python",
   "name": "python3"
  },
  "language_info": {
   "codemirror_mode": {
    "name": "ipython",
    "version": 3
   },
   "file_extension": ".py",
   "mimetype": "text/x-python",
   "name": "python",
   "nbconvert_exporter": "python",
   "pygments_lexer": "ipython3",
   "version": "3.6.7"
  },
  "toc": {
   "base_numbering": 1,
   "nav_menu": {},
   "number_sections": true,
   "sideBar": true,
   "skip_h1_title": false,
   "title_cell": "Table of Contents",
   "title_sidebar": "Contents",
   "toc_cell": false,
   "toc_position": {},
   "toc_section_display": true,
   "toc_window_display": false
  }
 },
 "nbformat": 4,
 "nbformat_minor": 2
}
