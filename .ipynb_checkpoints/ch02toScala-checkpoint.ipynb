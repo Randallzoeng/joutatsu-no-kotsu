{
 "cells": [
  {
   "cell_type": "code",
   "execution_count": 3,
   "metadata": {
    "scrolled": true
   },
   "outputs": [
    {
     "data": {
      "text/plain": [
       "import org.apache.spark.sql.{DataFrame, Dataset, Row, SparkSession}\n",
       "import org.apache.spark.sql.functions._\n",
       "import org.apache.spark.sql.types._\n",
       "defined object RunIntro\n"
      ]
     },
     "execution_count": 3,
     "metadata": {},
     "output_type": "execute_result"
    }
   ],
   "source": [
    "import org.apache.spark.sql.{DataFrame,Dataset,Row,SparkSession}\n",
    "import org.apache.spark.sql.functions._\n",
    "import org.apache.spark.sql.types._\n",
    "\n",
    "object RunIntro extends Serializable {\n",
    "    def main(args: Array[String]): Unit = {\n",
    "        val spark = SparkSession\n",
    "            .builder()\n",
    "            .appName(\"Intro\")\n",
    "            .master(\"local\") \n",
    "            .getOrCreate()\n",
    "        \n",
    "        import spark.implicits._\n",
    "        val dfSchema = StructType(Array(\n",
    "                StructField(\"id_1\",IntegerType,true),\n",
    "                StructField(\"id_2\",IntegerType,true),\n",
    "                StructField(\"cmp_fname_c1\",DoubleType,true),\n",
    "                StructField(\"cmp_fname_c2\",DoubleType,true),\n",
    "                StructField(\"cmp_lname_c1\",DoubleType,true),\n",
    "                StructField(\"cmp_lname_c2\",DoubleType,true),\n",
    "                StructField(\"cmp_sex\",IntegerType,true),\n",
    "                StructField(\"cmp_bd\",IntegerType,true),\n",
    "                StructField(\"cmp_bm\",IntegerType,true),\n",
    "                StructField(\"cmp_by\",IntegerType,true),\n",
    "                StructField(\"cmp_plz\",IntegerType,true),\n",
    "                StructField(\"is_match\",BooleanType,true)\n",
    "        ))\n",
    "        val df = spark.read\n",
    "            .option(\"header\",\"true\")\n",
    "            .option(\"nullValue\",\"?\")\n",
    "            .schema(dfSchema)\n",
    "            .csv(\"/Users/soda/Downloads/dataSet/aas/linkage/*.csv\")\n",
    "        df.createOrReplaceTempView(\"matchdata\")\n",
    "        val result = spark.sql(\"\"\"\n",
    "                select cmp_lname_c1 + cmp_plz + cmp_by + cmp_bd + cmp_bm as score,\n",
    "                    is_match from matchdata\n",
    "        \"\"\")\n",
    "        def crossTab(scored: DataFrame, t: Double): DataFrame = {\n",
    "            scored.selectExpr(s\"score >= $t as above\",\"is_match\")\n",
    "                .groupBy(\"above\")\n",
    "                .pivot(\"is_match\",Seq(\"true\",\"false\"))\n",
    "                .count()\n",
    "        }\n",
    "        \n",
    "        crossTab(result,4.0).coalesce(1).rdd.saveAsTextFile(\"/resultTable.txt\")\n",
    "    }\n",
    "}"
   ]
  },
  {
   "cell_type": "code",
   "execution_count": null,
   "metadata": {},
   "outputs": [],
   "source": []
  }
 ],
 "metadata": {
  "kernelspec": {
   "display_name": "spylon-kernel",
   "language": "scala",
   "name": "spylon-kernel"
  },
  "language_info": {
   "codemirror_mode": "text/x-scala",
   "file_extension": ".scala",
   "help_links": [
    {
     "text": "MetaKernel Magics",
     "url": "https://metakernel.readthedocs.io/en/latest/source/README.html"
    }
   ],
   "mimetype": "text/x-scala",
   "name": "scala",
   "pygments_lexer": "scala",
   "version": "0.4.1"
  },
  "toc": {
   "base_numbering": 1,
   "nav_menu": {},
   "number_sections": true,
   "sideBar": true,
   "skip_h1_title": false,
   "title_cell": "Table of Contents",
   "title_sidebar": "Contents",
   "toc_cell": false,
   "toc_position": {},
   "toc_section_display": true,
   "toc_window_display": false
  }
 },
 "nbformat": 4,
 "nbformat_minor": 2
}
